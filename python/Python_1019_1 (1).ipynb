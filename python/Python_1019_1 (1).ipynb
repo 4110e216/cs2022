{
  "nbformat": 4,
  "nbformat_minor": 0,
  "metadata": {
    "colab": {
      "provenance": [],
      "collapsed_sections": []
    },
    "kernelspec": {
      "name": "python3",
      "display_name": "Python 3"
    },
    "language_info": {
      "name": "python"
    }
  },
  "cells": [
    {
      "cell_type": "markdown",
      "source": [
        "錢德羅 4110E216\n",
        "\n",
        "Python Conditions and If Statement\n"
      ],
      "metadata": {
        "id": "etWpJrfCt-b6"
      }
    },
    {
      "cell_type": "markdown",
      "source": [
        "Exercise 1: Print Hello 錢德羅 if a is greater than b."
      ],
      "metadata": {
        "id": "aZI8Iq61ubFP"
      }
    },
    {
      "cell_type": "code",
      "source": [
        "a = 19\n",
        "b = 5\n",
        "\n",
        "if a > b:\n",
        "  print(\"Hello 錢德羅\")"
      ],
      "metadata": {
        "colab": {
          "base_uri": "https://localhost:8080/"
        },
        "id": "TxwBoYG3uqNX",
        "outputId": "cc5bff4d-12af-4f95-c6f7-face2848531c"
      },
      "execution_count": 3,
      "outputs": [
        {
          "output_type": "stream",
          "name": "stdout",
          "text": [
            "Hello 錢德羅\n"
          ]
        }
      ]
    },
    {
      "cell_type": "markdown",
      "source": [
        "Exercise 2: Print \"Hello 錢德羅\" if a is not equal to b."
      ],
      "metadata": {
        "id": "7ofozg8Bx_YK"
      }
    },
    {
      "cell_type": "code",
      "source": [
        "a = 19\n",
        "b = 5\n",
        "\n",
        "if a != b:\n",
        "  print(\"Hello 錢德羅\")"
      ],
      "metadata": {
        "colab": {
          "base_uri": "https://localhost:8080/"
        },
        "id": "n1nX8JrnynjZ",
        "outputId": "ca8bb8a7-1a27-4b23-abc3-bbb75b45c730"
      },
      "execution_count": 5,
      "outputs": [
        {
          "output_type": "stream",
          "name": "stdout",
          "text": [
            "Hello 錢德羅\n"
          ]
        }
      ]
    },
    {
      "cell_type": "markdown",
      "source": [
        "Exercise 3: Print \"Yes\" if a is equal to b, otherwise print \"No\"."
      ],
      "metadata": {
        "id": "L42xyPQN0WFj"
      }
    },
    {
      "cell_type": "code",
      "source": [
        "a = 19\n",
        "b = 5\n",
        "\n",
        "if a == b:\n",
        "  print(\"Yes\")\n",
        "else:\n",
        "  print(\"No\")"
      ],
      "metadata": {
        "colab": {
          "base_uri": "https://localhost:8080/"
        },
        "id": "vxPamSro0_6K",
        "outputId": "56896546-694f-4dec-c552-5f4ec8d90419"
      },
      "execution_count": 10,
      "outputs": [
        {
          "output_type": "stream",
          "name": "stdout",
          "text": [
            "No\n"
          ]
        }
      ]
    },
    {
      "cell_type": "markdown",
      "source": [
        "Exercise 4:Print \"1\" if a is equal to b, print \"2\" if a is greater than b, otherwise print \"3\"."
      ],
      "metadata": {
        "id": "hJHI3Xf62KLF"
      }
    },
    {
      "cell_type": "code",
      "source": [
        "a = 19\n",
        "b = 5\n",
        "\n",
        "if a == b:\n",
        "  print(\"1\")\n",
        "if a > b:\n",
        "  print(\"2\")\n",
        "else:\n",
        "  print(\"3\")"
      ],
      "metadata": {
        "colab": {
          "base_uri": "https://localhost:8080/"
        },
        "id": "bK8wGm-g2vdc",
        "outputId": "d46aa1b6-a519-473b-817e-af5e5d245d5f"
      },
      "execution_count": 11,
      "outputs": [
        {
          "output_type": "stream",
          "name": "stdout",
          "text": [
            "2\n"
          ]
        }
      ]
    },
    {
      "cell_type": "markdown",
      "source": [
        "Exercise5: Print \"Hello\" if a is equal to b, and c is equal to d."
      ],
      "metadata": {
        "id": "FkJXJE3h3Hmz"
      }
    },
    {
      "cell_type": "code",
      "source": [
        "if a == b and c == d:\n",
        "\n",
        "  print(\"Hello\")"
      ],
      "metadata": {
        "id": "0ES4SEeb3l2L"
      },
      "execution_count": 14,
      "outputs": []
    },
    {
      "cell_type": "markdown",
      "source": [
        "Exercise 6: Print \"Hello\" if a is equal to b, or if c is equal to d."
      ],
      "metadata": {
        "id": "3bev0ieE46bU"
      }
    },
    {
      "cell_type": "code",
      "source": [
        "if a == b or c == d:\n",
        "  \n",
        "   print(\"Hello\")"
      ],
      "metadata": {
        "colab": {
          "base_uri": "https://localhost:8080/",
          "height": 189
        },
        "id": "6pukZJMm4_td",
        "outputId": "8b15b1c5-769a-4338-8e0d-3acd87880a02"
      },
      "execution_count": 20,
      "outputs": [
        {
          "output_type": "error",
          "ename": "NameError",
          "evalue": "ignored",
          "traceback": [
            "\u001b[0;31m---------------------------------------------------------------------------\u001b[0m",
            "\u001b[0;31mNameError\u001b[0m                                 Traceback (most recent call last)",
            "\u001b[0;32m<ipython-input-20-275f54f7564a>\u001b[0m in \u001b[0;36m<module>\u001b[0;34m\u001b[0m\n\u001b[0;32m----> 1\u001b[0;31m \u001b[0;32mif\u001b[0m \u001b[0ma\u001b[0m \u001b[0;34m==\u001b[0m \u001b[0mb\u001b[0m \u001b[0;32mor\u001b[0m \u001b[0mc\u001b[0m \u001b[0;34m==\u001b[0m \u001b[0md\u001b[0m\u001b[0;34m:\u001b[0m\u001b[0;34m\u001b[0m\u001b[0;34m\u001b[0m\u001b[0m\n\u001b[0m\u001b[1;32m      2\u001b[0m  \u001b[0mprint\u001b[0m\u001b[0;34m(\u001b[0m\u001b[0;34m\"Hello\"\u001b[0m\u001b[0;34m)\u001b[0m\u001b[0;34m\u001b[0m\u001b[0;34m\u001b[0m\u001b[0m\n",
            "\u001b[0;31mNameError\u001b[0m: name 'c' is not defined"
          ]
        }
      ]
    },
    {
      "cell_type": "markdown",
      "source": [
        "Exercise 7: This example misses indentations to be correct.\n",
        "\n",
        "Insert the missing indentation to make the code correct:"
      ],
      "metadata": {
        "id": "zkOjuyUz5n6k"
      }
    },
    {
      "cell_type": "code",
      "source": [
        "if 5 > 2:\n",
        "   print(\"Five is greater than two!\")"
      ],
      "metadata": {
        "colab": {
          "base_uri": "https://localhost:8080/"
        },
        "id": "99FPNsQC6Nx_",
        "outputId": "c0c96897-80be-4da2-9fff-2d85fbc37fce"
      },
      "execution_count": 21,
      "outputs": [
        {
          "output_type": "stream",
          "name": "stdout",
          "text": [
            "Five is greater than two!\n"
          ]
        }
      ]
    },
    {
      "cell_type": "markdown",
      "source": [
        "Exercise 8: Use the correct short hand syntax to put the following statement on one line:"
      ],
      "metadata": {
        "id": "mFe9bNLM6T9l"
      }
    },
    {
      "cell_type": "code",
      "source": [
        "if 5 > 2:print(\"Five is greater than two!\")"
      ],
      "metadata": {
        "colab": {
          "base_uri": "https://localhost:8080/"
        },
        "id": "7EQypaXr6h6M",
        "outputId": "f4ba353f-5663-4b6a-c58e-bb91a990c13a"
      },
      "execution_count": 22,
      "outputs": [
        {
          "output_type": "stream",
          "name": "stdout",
          "text": [
            "Five is greater than two!\n"
          ]
        }
      ]
    },
    {
      "cell_type": "markdown",
      "source": [
        "Exercise 9: Use the correct short hand syntax to write the following conditional expression in one line:"
      ],
      "metadata": {
        "id": "kUqatL5A6n4E"
      }
    },
    {
      "cell_type": "code",
      "source": [
        "print(\"yes\") if 5 > 2 else print(\"No\")"
      ],
      "metadata": {
        "colab": {
          "base_uri": "https://localhost:8080/"
        },
        "id": "QXvcEn6m6wDc",
        "outputId": "6c46f94c-b3e2-4207-8f90-e9b34f50be08"
      },
      "execution_count": 25,
      "outputs": [
        {
          "output_type": "stream",
          "name": "stdout",
          "text": [
            "yes\n"
          ]
        }
      ]
    }
  ]
}