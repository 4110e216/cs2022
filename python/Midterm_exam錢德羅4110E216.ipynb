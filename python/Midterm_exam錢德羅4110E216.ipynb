{
  "nbformat": 4,
  "nbformat_minor": 0,
  "metadata": {
    "colab": {
      "provenance": []
    },
    "kernelspec": {
      "name": "python3",
      "display_name": "Python 3"
    },
    "language_info": {
      "name": "python"
    }
  },
  "cells": [
    {
      "cell_type": "markdown",
      "source": [
        "1."
      ],
      "metadata": {
        "id": "rIhTTpmD3MOV"
      }
    },
    {
      "cell_type": "markdown",
      "source": [
        "What can Python do?\n",
        "\n",
        "(A)Python can be used on a server to create web applications.\n",
        "\n",
        "(B)Python can be used alongside software to create workflows.\n",
        "\n",
        "(C)Python can connect to database systems. It can also read and modify files.\n",
        "\n",
        "(D)Python can be used to handle big data and perform complex mathematics."
      ],
      "metadata": {
        "id": "bmh0nrYb3Q8Q"
      }
    },
    {
      "cell_type": "markdown",
      "source": [
        "Answer:\n",
        "https://www.w3schools.com/python/python_intro.asp\n",
        "Python can be used on a server to create web applications.\n",
        "\n",
        "Python can be used alongside software to create workflows.\n",
        "\n",
        "Python can connect to database systems. It can also read and modify files.\n",
        "\n",
        "Python can be used to handle big data and perform complex mathematics.\n",
        "\n",
        "Python can be used for rapid prototyping, or for production-ready software development. Why Python?"
      ],
      "metadata": {
        "id": "6apiGJjO3V7r"
      }
    },
    {
      "cell_type": "markdown",
      "source": [
        "2."
      ],
      "metadata": {
        "id": "A2xmPXNO3gI7"
      }
    },
    {
      "cell_type": "markdown",
      "source": [
        "Python uses __________ to indicate a block of code?\n",
        "(A) [] (B){}  (C) ()  (D) indentation"
      ],
      "metadata": {
        "id": "ZWFAL9eE3hgT"
      }
    },
    {
      "cell_type": "markdown",
      "source": [
        "Answer: D\n",
        "https://www.w3schools.com/python/python_syntax.asp\n",
        "Python uses indentation to indicate a block of code.\n"
      ],
      "metadata": {
        "id": "xkAKwR0k3tcL"
      }
    },
    {
      "cell_type": "markdown",
      "source": [
        "3. Python has commenting capability for the purpose of in-code documentation. Comments start with a  __________\n",
        "(A)A  (B) # (C) /  (D)&\n"
      ],
      "metadata": {
        "id": "MppcLfIX4HRd"
      }
    },
    {
      "cell_type": "markdown",
      "source": [
        "Answer:\n",
        "B"
      ],
      "metadata": {
        "id": "aXBekuaQ4KjH"
      }
    },
    {
      "cell_type": "markdown",
      "source": [
        "4. Unpack a Collection:\n",
        "If you have a collection of values in a list, tuple etc. Python allows you to extract the values into variables. \n",
        "fruits = [\"apple\", \"banana\", \"cherry\"]\n",
        "x, y, z = fruits\n",
        "print(x)\n",
        "What is the output of this code in Python?\n",
        "(A) apple  (B) banana (C) cherry  \n",
        "(D) [\"apple\", \"banana\", \"cherry\"]\n"
      ],
      "metadata": {
        "id": "NdzNfeUn4aiv"
      }
    },
    {
      "cell_type": "markdown",
      "source": [
        "Answer:\n",
        "(A) apple"
      ],
      "metadata": {
        "id": "6hPSL4qR4cdP"
      }
    },
    {
      "cell_type": "markdown",
      "source": [
        "5. Which following is the correct way to create a dictionary in Python?\n",
        "   (A) students = { 'name' => 'alice' ;  'score' =>60 }\n",
        "   (B) students = { 'name' = 'alice' ;  'score' =60 }\n",
        "   (C) students = { 'name' : 'alice' ;  'score' : 60 }\n",
        "   (D) students = { 'name' => 'alice' ,  'score' =>60 }\n",
        "   (E) students = { 'name' : 'alice' , 'score' : 60 }\n"
      ],
      "metadata": {
        "id": "v803zvax4dKF"
      }
    },
    {
      "cell_type": "markdown",
      "source": [
        "Answer: - E- { 'name' : 'alice' , 'score' : 60 }\n",
        "\n",
        "students = { 'name' => 'alice' ;  'score' =>60 }\n",
        " File \"<ipython-input-2-ed12b19b76b9>\", line 1\n",
        "    students = { 'name' => 'alice' ;  'score' =>60 }\n",
        "                        ^\n",
        "SyntaxError: invalid syntax\n",
        "\n",
        "students = { 'name' = 'alice' ;  'score' =60 }\n",
        "File \"<ipython-input-3-a8051ea5153f>\", line 1\n",
        "    ) students = { 'name' = 'alice' ;  'score' =60 }\n",
        "    ^\n",
        "SyntaxError: invalid syntax\n",
        "\n",
        "students = { 'name' = 'alice' ;  'score' =60 }\n",
        " File \"<ipython-input-3-a8051ea5153f>\", line 1\n",
        "    ) students = { 'name' = 'alice' ;  'score' =60 }\n",
        "    ^\n",
        "SyntaxError: invalid syntax\n",
        "\n",
        "students = { 'name' => 'alice' ,  'score' =>60 }\n",
        " File \"<ipython-input-5-57cc8b55d372>\", line 1\n",
        "    students = { 'name' => 'alice' ,  'score' =>60 }\n",
        "                        ^\n",
        "SyntaxError: invalid syntax\n",
        "\n",
        "students = { 'name' : 'alice' , 'score' : 60 }\n",
        "\n"
      ],
      "metadata": {
        "id": "XGQ1ML1l4e4O"
      }
    },
    {
      "cell_type": "markdown",
      "source": [
        "6.What is the output of this code in Python?\n",
        "\n",
        "x = 5\n",
        "y = \"John\"\n",
        "print(x + y) \n",
        "\n",
        "(A)\t5 John  (B) 5 + John  (C) John  \n",
        "(D) Python will give you an error\n"
      ],
      "metadata": {
        "id": "OCQ6XS9n4fc-"
      }
    },
    {
      "cell_type": "markdown",
      "source": [
        "Answer: D- Python will give you an error\n",
        "\n",
        "TypeError                                 Traceback (most recent call last)\n",
        " in \n",
        "      2 y = \"John\"\n",
        "      3 \n",
        "----> 4 print( x + y )\n",
        "\n",
        "TypeError: unsupported operand type(s) for +: 'int' and 'str'\n"
      ],
      "metadata": {
        "id": "IV5U_NAP4hA2"
      }
    },
    {
      "cell_type": "markdown",
      "source": [
        "7.Which one of the following outputs is wrong?\n",
        "(A)13//5  output: 2.6\n",
        "(B) 13/5   output: 2.6\n",
        "(C)13%5   output:3   \n",
        "(D)y = int(2.8)  output:2\n"
      ],
      "metadata": {
        "id": "dxdVrjSb4h-3"
      }
    },
    {
      "cell_type": "markdown",
      "source": [
        "Answer: B-13/5 output: 2.6\n"
      ],
      "metadata": {
        "id": "sjJ708Pe4i3-"
      }
    },
    {
      "cell_type": "markdown",
      "source": [
        "8.What does the following Python program fragment do?\n",
        "   s=0\n",
        "   for i in range (3 , 11) :\n",
        "        s+=i\n",
        "   print (s)\n",
        "   (A) Calculate the sum of 1+2+…+10\n",
        "   (B) Calculate the sum of 1+4+7+10\n",
        "   (C) Calculate the sum of 3+4+5+6+…+9\n",
        "   (D) Calculate the sum of 3+4+5+6+…+10\n",
        "   (E) Calculate the sum of 0+2+4+6+…+10\n"
      ],
      "metadata": {
        "id": "S76dCapn4jV1"
      }
    },
    {
      "cell_type": "markdown",
      "source": [
        "Answer: D- Calculate the sum of 3+4+5+6+…+10\n"
      ],
      "metadata": {
        "id": "Mq3YOJbU4ko-"
      }
    },
    {
      "cell_type": "code",
      "source": [
        "x = range(3,11)\n",
        "\n",
        "for n in x:\n",
        "  print(n)"
      ],
      "metadata": {
        "colab": {
          "base_uri": "https://localhost:8080/"
        },
        "id": "i0Ld1hA29fbM",
        "outputId": "96d1e295-0eef-4498-a869-628b42f944ef"
      },
      "execution_count": 7,
      "outputs": [
        {
          "output_type": "stream",
          "name": "stdout",
          "text": [
            "3\n",
            "4\n",
            "5\n",
            "6\n",
            "7\n",
            "8\n",
            "9\n",
            "10\n"
          ]
        }
      ]
    },
    {
      "cell_type": "markdown",
      "source": [
        "9.What is the output of this code in Python?\n",
        "\n",
        "a = \"Hello, World!\"\n",
        "print(a[2:5]+ a[3:8]) \n",
        "\n",
        "(A)  W llolo,\n",
        "(B)  llolo,Wo\n",
        "(C)  llolo, W\n",
        "(D)  llolo,Wor\n"
      ],
      "metadata": {
        "id": "yk4G65yv4ld-"
      }
    },
    {
      "cell_type": "markdown",
      "source": [
        "Answer: B- llolo,Wo "
      ],
      "metadata": {
        "id": "4WOHTaH-4mp-"
      }
    },
    {
      "cell_type": "code",
      "source": [
        "a = \"Hello, World!\"\n",
        "print(a[2:5]+ a[3:8]) \n"
      ],
      "metadata": {
        "colab": {
          "base_uri": "https://localhost:8080/"
        },
        "id": "QNmBOjlf-5jl",
        "outputId": "87f8e5f6-4340-4150-daae-0bc15475c518"
      },
      "execution_count": 14,
      "outputs": [
        {
          "output_type": "stream",
          "name": "stdout",
          "text": [
            "llolo, W\n"
          ]
        }
      ]
    },
    {
      "cell_type": "markdown",
      "source": [
        "10. Which function can returns the length of a string?\n",
        "a = \"Hello, Pythonian!\"\n",
        "print(_________)\n",
        "(A) len(a)  (B) length(a)   (C) count(a)  (D)  num(a)\n"
      ],
      "metadata": {
        "id": "LMl63PpH4m-d"
      }
    },
    {
      "cell_type": "markdown",
      "source": [
        "Answer: B-length(a)"
      ],
      "metadata": {
        "id": "c5AXqKrb4olZ"
      }
    },
    {
      "cell_type": "markdown",
      "source": [
        "11.What is the output of this code in Python?\n",
        "      list = [ ' a ' ,  ' b ' ,  ' c ' ,  ' d ' ,  ' e ' ]\n",
        "      print (list [ 1 : ])\n",
        "   (A) [ ]\n",
        "   (B) [ 'b' ]\n",
        "   (C) [ 'a' ,  'b' ]\n",
        "   (D) [ 'b' ,  'c' ,  'd' ,  'e' ]\n"
      ],
      "metadata": {
        "id": "3UCp6yUT4pMu"
      }
    },
    {
      "cell_type": "markdown",
      "source": [
        "Answer: D-[' b ', ' c ', ' d ', ' e ']"
      ],
      "metadata": {
        "id": "A3YiosK54qE_"
      }
    },
    {
      "cell_type": "code",
      "source": [
        "      list = [ ' a ' ,  ' b ' ,  ' c ' ,  ' d ' ,  ' e ' ]\n",
        "      print (list [ 1 : ])\n"
      ],
      "metadata": {
        "colab": {
          "base_uri": "https://localhost:8080/"
        },
        "id": "L3viI87Z_xE_",
        "outputId": "faed6b51-3f44-4bd2-dba8-5869809ab58c"
      },
      "execution_count": 15,
      "outputs": [
        {
          "output_type": "stream",
          "name": "stdout",
          "text": [
            "[' b ', ' c ', ' d ', ' e ']\n"
          ]
        }
      ]
    },
    {
      "cell_type": "markdown",
      "source": [
        "12.What is the output of this code in Python?\n",
        "        L1 = [ ]\n",
        "        L1.append ( [1, [2, 3], 4] )\n",
        "        L1.extend ( [7, 8, 9] )\n",
        "        print(L1[0][1][1] + L1[2] )\n",
        "   (A) 3  (B) 8  (C) 11  (D) 38  (E) None of these\n"
      ],
      "metadata": {
        "id": "NV90caJb4qZF"
      }
    },
    {
      "cell_type": "markdown",
      "source": [
        "Answer: B-11"
      ],
      "metadata": {
        "id": "gdRmBcfW4rjl"
      }
    },
    {
      "cell_type": "code",
      "source": [
        "        L1 = [ ]\n",
        "        L1.append ( [1, [2, 3], 4] )\n",
        "        L1.extend ( [7, 8, 9] )\n",
        "        print(L1[0][1][1] + L1[2] )\n"
      ],
      "metadata": {
        "colab": {
          "base_uri": "https://localhost:8080/"
        },
        "id": "7jxleuZ1AQvU",
        "outputId": "346e6080-1fe6-4383-eeb2-453e5da2ef5f"
      },
      "execution_count": 17,
      "outputs": [
        {
          "output_type": "stream",
          "name": "stdout",
          "text": [
            "11\n"
          ]
        }
      ]
    },
    {
      "cell_type": "markdown",
      "source": [
        "13.Check if \"free\" is present in the following text:\n",
        "\n",
        "txt = \"The best things in life are free!\"\n",
        "print(\"free\" ______ txt)\n",
        "\n"
      ],
      "metadata": {
        "id": "d9cUDI0S4r9l"
      }
    },
    {
      "cell_type": "markdown",
      "source": [
        "Answer: D-in"
      ],
      "metadata": {
        "id": "tj2Zfa684tJG"
      }
    },
    {
      "cell_type": "code",
      "source": [
        "txt = \"The best things in life are free!\"\n",
        "print(\"free\" in txt)\n"
      ],
      "metadata": {
        "colab": {
          "base_uri": "https://localhost:8080/"
        },
        "id": "eHYlmllYAhBt",
        "outputId": "443feed9-8363-4982-de6b-03a30ce910ce"
      },
      "execution_count": 19,
      "outputs": [
        {
          "output_type": "stream",
          "name": "stdout",
          "text": [
            "True\n"
          ]
        }
      ]
    },
    {
      "cell_type": "markdown",
      "source": [
        "14.Which of the following conditions correctly describes the output of this code in  Python?\n",
        "         first = [1 , 2 , 3 , 4 , 5]\n",
        "         second = first\n",
        "         second.append (6)\n",
        "         print (first)\n",
        "         print (second)\n",
        "   (A) first=[1, 2, 3, 4, 5], second=[1, 2, 3, 4, 5, 6]\n",
        "   (B) first=[1, 2, 3, 4, 5, 6], second=[1, 2, 3, 4, 5]\n",
        "   (C) first=[1, 2, 3, 4, 5], second=[1, 2, 3, 4, 5]\n",
        "   (D) first=[1, 2, 3, 4, 5, 6], second=[1, 2, 3, 4, 5, 6]\n",
        "   (E) None of these\n"
      ],
      "metadata": {
        "id": "_YHwohtM4uCl"
      }
    },
    {
      "cell_type": "markdown",
      "source": [
        "Answer: D-[1, 2, 3, 4, 5, 6]\n",
        "          [1, 2, 3, 4, 5, 6]"
      ],
      "metadata": {
        "id": "vbTMBeEs4vBW"
      }
    },
    {
      "cell_type": "code",
      "source": [
        "first = [1 , 2 , 3 , 4 , 5]\n",
        "second = first\n",
        "second.append (6)\n",
        "print (first)\n",
        "print (second)"
      ],
      "metadata": {
        "colab": {
          "base_uri": "https://localhost:8080/"
        },
        "id": "TGYVOvhUBYUM",
        "outputId": "4ab93611-d282-4e7a-cf9f-b4bd4e604437"
      },
      "execution_count": 21,
      "outputs": [
        {
          "output_type": "stream",
          "name": "stdout",
          "text": [
            "[1, 2, 3, 4, 5, 6]\n",
            "[1, 2, 3, 4, 5, 6]\n"
          ]
        }
      ]
    },
    {
      "cell_type": "markdown",
      "source": [
        "15.Python has a set of built-in methods that you can use on strings. Which method can converts string into lower case ?\n",
        "(A)capitalize()     (B) casefold()     (C) lower()  \n",
        "(D)expandtabs()\n"
      ],
      "metadata": {
        "id": "Uft9zZlS4vbQ"
      }
    },
    {
      "cell_type": "markdown",
      "source": [
        "Answer: C- lower ()\n",
        "https://www.google.com/search?q=Python+has+a+set+of+built-in+methods+that+you+can+use+on+strings.+Which+method+can+converts+string+into+lower+case+%3F&rlz=1C1ONGR_enPH1023PH1023&oq=Python+has+a+set+of+built-in+methods+that+you+can+use+on+strings.+Which+method+can+converts+string+into+lower+case+%3F&aqs=chrome..69i57.263j0j9&sourceid=chrome&ie=UTF-8"
      ],
      "metadata": {
        "id": "EzMqHDEW4wi_"
      }
    },
    {
      "cell_type": "markdown",
      "source": [
        "16.Python Booleans\n",
        "Which one of the following statements is wrong?\n",
        "(A) Booleans represent one of two values: True or False. \n",
        "(B) The bool() function allows you to evaluate any value, and give you True or False in return, \n",
        "(C) print(10 > 9) will output True  \n",
        "(D) print(10 = 9) will output True\n"
      ],
      "metadata": {
        "id": "a16vAthj4xBl"
      }
    },
    {
      "cell_type": "markdown",
      "source": [
        "Answer: D-print(10 = 9) will output True"
      ],
      "metadata": {
        "id": "5QZOI1BV4yE3"
      }
    },
    {
      "cell_type": "code",
      "source": [
        "print(10 = 9) "
      ],
      "metadata": {
        "colab": {
          "base_uri": "https://localhost:8080/",
          "height": 134
        },
        "id": "drr8DFirGEVy",
        "outputId": "456975e4-6534-4029-a068-4d73b61ab40b"
      },
      "execution_count": 22,
      "outputs": [
        {
          "output_type": "error",
          "ename": "SyntaxError",
          "evalue": "ignored",
          "traceback": [
            "\u001b[0;36m  File \u001b[0;32m\"<ipython-input-22-ac2d28f66424>\"\u001b[0;36m, line \u001b[0;32m1\u001b[0m\n\u001b[0;31m    print(10 = 9)\u001b[0m\n\u001b[0m         ^\u001b[0m\n\u001b[0;31mSyntaxError\u001b[0m\u001b[0;31m:\u001b[0m keyword can't be an expression\n"
          ]
        }
      ]
    },
    {
      "cell_type": "code",
      "source": [],
      "metadata": {
        "id": "DnC_vnaeF9m9"
      },
      "execution_count": null,
      "outputs": []
    },
    {
      "cell_type": "markdown",
      "source": [
        "17.Python Lists \n",
        "Which of the following statements is wrong?\n",
        "\n",
        "(A) Lists are used to store multiple items in a single variable.\n",
        "(B) Lists are created using square brackets \n",
        "(C) List items are ordered, changeable, and allow duplicate values. \n",
        "(D) Lists can not have items with the same value\n"
      ],
      "metadata": {
        "id": "PwE0xe5Y4yXd"
      }
    },
    {
      "cell_type": "markdown",
      "source": [
        "Answer:D- Lists can not have items with the same value"
      ],
      "metadata": {
        "id": "95C7W1XB4zh2"
      }
    },
    {
      "cell_type": "markdown",
      "source": [
        "18.Which one of the codes will output\n",
        "['apple', 'orange', 'banana', 'cherry']  ?\n",
        "\n",
        "mylist = [\"apple\", \"banana\", \"cherry\"]\n",
        "_____________________\n",
        "print(mylist)\n",
        "\n",
        "(A)mylist.append(\"orange\")\n",
        "(B)mylist.insert(0, \"orange\")\n",
        "(C)mylist.insert(1, \"orange\")   \n",
        "(D)mylist.insert(2, \"orange\")\n"
      ],
      "metadata": {
        "id": "0MoYzdtS4z4m"
      }
    },
    {
      "cell_type": "markdown",
      "source": [
        "Answer: D-mylist.insert(2, \"orange\")"
      ],
      "metadata": {
        "id": "UwNyWI6HH0lB"
      }
    },
    {
      "cell_type": "code",
      "source": [
        "mylist = [\"apple\", \"banana\", \"cherry\"]\n",
        "mylist.insert(2, \"orange\")\n",
        "print(mylist)"
      ],
      "metadata": {
        "colab": {
          "base_uri": "https://localhost:8080/"
        },
        "id": "108vc2Q4IINK",
        "outputId": "b3e55413-ab03-406a-b6c5-7d5a86ed868a"
      },
      "execution_count": 24,
      "outputs": [
        {
          "output_type": "stream",
          "name": "stdout",
          "text": [
            "['apple', 'banana', 'orange', 'cherry']\n"
          ]
        }
      ]
    },
    {
      "cell_type": "markdown",
      "source": [
        "19.Python has a set of built-in methods that you can use on dictionaries. Which statements are correct ?\n",
        "(A) clear() will removes all the elements from the dictionary\n",
        "(B) copy() will returns a copy of the dictionary \n",
        "(C) items() will returns a list containing a tuple for each key value pair  \n",
        "(D) popitem()\twill removes the last inserted key-value pair\n",
        "\n"
      ],
      "metadata": {
        "id": "xWyXH3xW40yP"
      }
    },
    {
      "cell_type": "markdown",
      "source": [
        "Answer: C-items() will returns a list containing a tuple for each key value pair"
      ],
      "metadata": {
        "id": "Dv9sbyIU5alH"
      }
    },
    {
      "cell_type": "markdown",
      "source": [
        "20.Python supports the usual logical conditions from mathematics:\n",
        "Which statements are correct ?\n",
        "(A)Equals: a = b\n",
        "(B)Not Equals: a != b\n",
        "(C)Less than or equal to: a <= b\n",
        "(D)Greater than: a > b\n"
      ],
      "metadata": {
        "id": "wGabKu0r5a_P"
      }
    },
    {
      "cell_type": "markdown",
      "source": [
        "Answer: B-Not Equals: a != b"
      ],
      "metadata": {
        "id": "41DrtfVi5b82"
      }
    },
    {
      "cell_type": "markdown",
      "source": [
        "21.What is the output of this code in Python?\n",
        "\n",
        "i = 1\n",
        "while i < 6:\n",
        "  print(i)\n",
        "  if (i == 3):\n",
        "    break\n",
        "  i += 1\n",
        "(A)\t(B)\t(C)\t(D)\n",
        "1    1   1   4\n",
        "2    2   2   5\n",
        "3\t   4   3   6\n",
        "     5   4\n",
        "     6   5\n",
        "         6"
      ],
      "metadata": {
        "id": "Iool3joO5cYA"
      }
    },
    {
      "cell_type": "markdown",
      "source": [
        "Answer: A"
      ],
      "metadata": {
        "id": "QUuOrrIc5dZN"
      }
    },
    {
      "cell_type": "code",
      "source": [
        "i = 1\n",
        "while i < 6:\n",
        "  print(i)\n",
        "  if (i == 3):\n",
        "    break\n",
        "  i += 1\n"
      ],
      "metadata": {
        "id": "T0aV9bn2JJBT",
        "outputId": "3c90c1e9-29b0-4131-9158-582daad8d159",
        "colab": {
          "base_uri": "https://localhost:8080/"
        }
      },
      "execution_count": 25,
      "outputs": [
        {
          "output_type": "stream",
          "name": "stdout",
          "text": [
            "1\n",
            "2\n",
            "3\n"
          ]
        }
      ]
    },
    {
      "cell_type": "markdown",
      "source": [
        "22.What is the output of this code in Python?\n",
        "i = 0\n",
        "while i < 6:\n",
        "  i += 1\n",
        "  if i == 3:\n",
        "    continue\n",
        "  print(i)\n",
        "\n",
        "(A)\t(B)\t(C)\t(D)\n",
        "1    1   1   4\n",
        "2    2   2   5\n",
        "3    4   3   6\n",
        "     5   4\n",
        "     6   5\n",
        "         6\n"
      ],
      "metadata": {
        "id": "rnRFctsm5dy-"
      }
    },
    {
      "cell_type": "markdown",
      "source": [
        "Answer: B"
      ],
      "metadata": {
        "id": "uhGKBx265fZe"
      }
    },
    {
      "cell_type": "code",
      "source": [
        "i = 0\n",
        "while i < 6:\n",
        "  i += 1\n",
        "  if i == 3:\n",
        "    continue\n",
        "  print(i)\n"
      ],
      "metadata": {
        "id": "YQ2DUWS-KPVk",
        "outputId": "723f7449-749b-4db8-c466-b177328b55a0",
        "colab": {
          "base_uri": "https://localhost:8080/"
        }
      },
      "execution_count": 26,
      "outputs": [
        {
          "output_type": "stream",
          "name": "stdout",
          "text": [
            "1\n",
            "2\n",
            "4\n",
            "5\n",
            "6\n"
          ]
        }
      ]
    },
    {
      "cell_type": "markdown",
      "source": [
        "23.If the function \n",
        "int volume (int x = 1, int y = 1, int z = 1); \n",
        "is called by the expression volume (7,8), how many default arguments are used?\n",
        "(A) None  (B) One  (C) Two  (D) Three\n",
        "(E) It depends on the runtime environment.\n"
      ],
      "metadata": {
        "id": "iU4Ts4VC5fvm"
      }
    },
    {
      "cell_type": "markdown",
      "source": [
        "Answer: C-Two"
      ],
      "metadata": {
        "id": "Dz4BOSDs5gkm"
      }
    },
    {
      "cell_type": "markdown",
      "source": [
        "24.What is the output of this code in python?\n",
        "        r = lambda q: q * 2\n",
        "        s = lambda q: q * 3\n",
        "        x = 2\n",
        "        x = r (x)\n",
        "        x = s (x)\n",
        "        x = r (x)\n",
        "        print (x)\n",
        "   (A) 2  (B) 4  (C) 6  (D) 12  (E) 24\n"
      ],
      "metadata": {
        "id": "e24LxUJo5jQG"
      }
    },
    {
      "cell_type": "markdown",
      "source": [
        "Answer: E"
      ],
      "metadata": {
        "id": "SmxXt1fE5kOv"
      }
    },
    {
      "cell_type": "code",
      "source": [
        "        r = lambda q: q * 2\n",
        "        s = lambda q: q * 3\n",
        "        x = 2\n",
        "        x = r (x)\n",
        "        x = s (x)\n",
        "        x = r (x)\n",
        "        print (x)\n"
      ],
      "metadata": {
        "id": "rdWCjdGsLIkq",
        "outputId": "061ffc5c-3447-4395-e839-e161ece672b0",
        "colab": {
          "base_uri": "https://localhost:8080/"
        }
      },
      "execution_count": 27,
      "outputs": [
        {
          "output_type": "stream",
          "name": "stdout",
          "text": [
            "24\n"
          ]
        }
      ]
    },
    {
      "cell_type": "markdown",
      "source": [
        "25.A recursive function is defined as below:\n",
        "def tri_recursion(k):\n",
        "  if(k > 0):\n",
        "    result = k + tri_recursion(k - 1)\n",
        "    print(result)\n",
        "What Is The Last Line Of The Output When tri_recursion(6) is executed?\n",
        "\n",
        "(A) 6 (B) 10 (C) 15 (D) 21 (E) 28"
      ],
      "metadata": {
        "id": "ynWCe3X_5keu"
      }
    },
    {
      "cell_type": "markdown",
      "source": [
        "Answer: D-21"
      ],
      "metadata": {
        "id": "p6QH8f-P5lb2"
      }
    },
    {
      "cell_type": "code",
      "source": [
        "def tri_recursion(k):\n",
        "  if(k > 0):\n",
        "    result = k + tri_recursion(k - 1)\n",
        "    print(result)\n",
        "  else:\n",
        "    result = 0\n",
        "  return result\n"
      ],
      "metadata": {
        "id": "FN1gArwALc5Z"
      },
      "execution_count": 28,
      "outputs": []
    }
  ]
}