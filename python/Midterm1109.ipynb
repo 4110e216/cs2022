{
  "nbformat": 4,
  "nbformat_minor": 0,
  "metadata": {
    "colab": {
      "provenance": []
    },
    "kernelspec": {
      "name": "python3",
      "display_name": "Python 3"
    },
    "language_info": {
      "name": "python"
    }
  },
  "cells": [
    {
      "cell_type": "markdown",
      "source": [
        "**Exercise 1:**\n",
        "\n",
        "\n",
        "1.Write a recursive function for f(n)"
      ],
      "metadata": {
        "id": "oV0oFvH2SFm0"
      }
    },
    {
      "cell_type": "code",
      "execution_count": 1,
      "metadata": {
        "colab": {
          "base_uri": "https://localhost:8080/"
        },
        "id": "4FB_zyKUR_OX",
        "outputId": "9ab0b0b3-54ec-45fd-f0a4-bcfabefe25e4"
      },
      "outputs": [
        {
          "output_type": "stream",
          "name": "stdout",
          "text": [
            "fib = 10 is 9864100\n"
          ]
        }
      ],
      "source": [
        "def recursion(n):\n",
        "   if n == 1: \n",
        "     return 1\n",
        "   else: \n",
        "     return n * recursion(n-1) + n \n",
        "fib = 10\n",
        "\n",
        "print(\"fib = 10\", \"is\", recursion(fib))"
      ]
    },
    {
      "cell_type": "markdown",
      "source": [
        "2.Write a iterative function for f(n)"
      ],
      "metadata": {
        "id": "vCCuX3L2Sif7"
      }
    },
    {
      "cell_type": "code",
      "source": [
        "def f(n):\n",
        "    a = 0\n",
        "    b = 1\n",
        "    for i in range(n):\n",
        "        a,b = b,a + b\n",
        "    return a\n",
        "\n",
        "print (f(10))"
      ],
      "metadata": {
        "colab": {
          "base_uri": "https://localhost:8080/"
        },
        "id": "8NKIDNwYSlKU",
        "outputId": "c9acb473-2626-44e2-eaee-21f2203cdf83"
      },
      "execution_count": 2,
      "outputs": [
        {
          "output_type": "stream",
          "name": "stdout",
          "text": [
            "55\n"
          ]
        }
      ]
    },
    {
      "cell_type": "markdown",
      "source": [
        "**Exercise 2**\n",
        "\n",
        "1.write a recursive function for f(n)"
      ],
      "metadata": {
        "id": "MevhwqwxSpka"
      }
    },
    {
      "cell_type": "code",
      "source": [
        "def f(n):\n",
        "    if n == 1: \n",
        "        return 1\n",
        "\n",
        "    else:\n",
        "        return(n * f(n-1))\n",
        "\n",
        "print(f(10))"
      ],
      "metadata": {
        "colab": {
          "base_uri": "https://localhost:8080/"
        },
        "id": "wFGNHJz8S_8b",
        "outputId": "c3a1d616-1ef3-4e40-a704-5de28a121e6f"
      },
      "execution_count": 3,
      "outputs": [
        {
          "output_type": "stream",
          "name": "stdout",
          "text": [
            "3628800\n"
          ]
        }
      ]
    },
    {
      "cell_type": "markdown",
      "source": [
        "2.Write a iterative function for f(n)"
      ],
      "metadata": {
        "id": "QO0XMgBITDMq"
      }
    },
    {
      "cell_type": "code",
      "source": [
        "n = 8\n",
        "for i in range(n):\n",
        "   print(10**(3*i))\n",
        "   for i in range(n, -1, -1):\n",
        "     print(10**(3*i))"
      ],
      "metadata": {
        "colab": {
          "base_uri": "https://localhost:8080/"
        },
        "id": "kQ_k40MdTFli",
        "outputId": "82104026-306d-4c5c-a156-e9e850ea3e93"
      },
      "execution_count": 4,
      "outputs": [
        {
          "output_type": "stream",
          "name": "stdout",
          "text": [
            "1\n",
            "1000000000000000000000000\n",
            "1000000000000000000000\n",
            "1000000000000000000\n",
            "1000000000000000\n",
            "1000000000000\n",
            "1000000000\n",
            "1000000\n",
            "1000\n",
            "1\n",
            "1000\n",
            "1000000000000000000000000\n",
            "1000000000000000000000\n",
            "1000000000000000000\n",
            "1000000000000000\n",
            "1000000000000\n",
            "1000000000\n",
            "1000000\n",
            "1000\n",
            "1\n",
            "1000000\n",
            "1000000000000000000000000\n",
            "1000000000000000000000\n",
            "1000000000000000000\n",
            "1000000000000000\n",
            "1000000000000\n",
            "1000000000\n",
            "1000000\n",
            "1000\n",
            "1\n",
            "1000000000\n",
            "1000000000000000000000000\n",
            "1000000000000000000000\n",
            "1000000000000000000\n",
            "1000000000000000\n",
            "1000000000000\n",
            "1000000000\n",
            "1000000\n",
            "1000\n",
            "1\n",
            "1000000000000\n",
            "1000000000000000000000000\n",
            "1000000000000000000000\n",
            "1000000000000000000\n",
            "1000000000000000\n",
            "1000000000000\n",
            "1000000000\n",
            "1000000\n",
            "1000\n",
            "1\n",
            "1000000000000000\n",
            "1000000000000000000000000\n",
            "1000000000000000000000\n",
            "1000000000000000000\n",
            "1000000000000000\n",
            "1000000000000\n",
            "1000000000\n",
            "1000000\n",
            "1000\n",
            "1\n",
            "1000000000000000000\n",
            "1000000000000000000000000\n",
            "1000000000000000000000\n",
            "1000000000000000000\n",
            "1000000000000000\n",
            "1000000000000\n",
            "1000000000\n",
            "1000000\n",
            "1000\n",
            "1\n",
            "1000000000000000000000\n",
            "1000000000000000000000000\n",
            "1000000000000000000000\n",
            "1000000000000000000\n",
            "1000000000000000\n",
            "1000000000000\n",
            "1000000000\n",
            "1000000\n",
            "1000\n",
            "1\n"
          ]
        }
      ]
    },
    {
      "cell_type": "markdown",
      "source": [
        "**EXERCISE 3**\n",
        "\n",
        "1.write a recursive function for f(n)\n",
        "\n",
        "GCD:Greatest common divisor - Wikipedia gcd(8,12)=4 https://en.wikipedia.org/wiki/Greatest_common_divisor\n",
        "\n",
        "Euclidean algorithm\n",
        "\n",
        "gcd(48,18)\n",
        "\n",
        "= gcd(18,48%18)\n",
        "\n",
        "= gcd(18,12)\n",
        "\n",
        "= gcd(12,18%12)\n",
        "\n",
        "= gcd(12,6)\n",
        "\n",
        "= gcd(6,12%6)\n",
        "\n",
        "= gcd(6,0)\n",
        "\n",
        "= 6\n",
        "\n",
        "output: gcd(n,m)\n",
        "\n",
        "print(gcd(48,18))\n",
        "\n",
        "gcd(18,48) ==> gcd(48,18)\n",
        "\n",
        "gcd(x,0) ==> return x\n",
        "\n",
        "recurrence relation :"
      ],
      "metadata": {
        "id": "As1SA8fYTJdS"
      }
    },
    {
      "cell_type": "code",
      "source": [
        "def gcd (n,m):\n",
        "  if m == 0:\n",
        "    return n\n",
        "  else:\n",
        "    return gcd(m, n%m)\n",
        "\n",
        "gcd(18,48)"
      ],
      "metadata": {
        "colab": {
          "base_uri": "https://localhost:8080/"
        },
        "id": "mgY-Bg-6TqqT",
        "outputId": "e0568054-8ff0-40dc-b094-e6160d218367"
      },
      "execution_count": 6,
      "outputs": [
        {
          "output_type": "execute_result",
          "data": {
            "text/plain": [
              "6"
            ]
          },
          "metadata": {},
          "execution_count": 6
        }
      ]
    },
    {
      "cell_type": "markdown",
      "source": [
        "2. Write a iterative function for gcd(n,m)"
      ],
      "metadata": {
        "id": "-w_tY8_yTshB"
      }
    },
    {
      "cell_type": "code",
      "source": [
        "n = 48\n",
        "m = 18\n",
        "print (\"GCD (%d),(%d)\"% (n,m))\n",
        "while n != m:\n",
        "  if n == m:\n",
        "    print(\"GCD is %d\"% (n))\n",
        "  if n > m:\n",
        "    n -= m\n",
        "  else:\n",
        "    m -= n\n",
        "  if m == n:\n",
        "    print(\"GCD is %d\"% (m))"
      ],
      "metadata": {
        "colab": {
          "base_uri": "https://localhost:8080/"
        },
        "id": "Lf5b1RPZT1TE",
        "outputId": "184bfddd-9131-47b5-95b1-48ec4c5b8cd4"
      },
      "execution_count": 7,
      "outputs": [
        {
          "output_type": "stream",
          "name": "stdout",
          "text": [
            "GCD (48),(18)\n",
            "GCD is 6\n"
          ]
        }
      ]
    }
  ]
}