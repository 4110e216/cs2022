{
  "nbformat": 4,
  "nbformat_minor": 0,
  "metadata": {
    "colab": {
      "provenance": []
    },
    "kernelspec": {
      "name": "python3",
      "display_name": "Python 3"
    },
    "language_info": {
      "name": "python"
    }
  },
  "cells": [
    {
      "cell_type": "markdown",
      "source": [
        "錢德羅-4110E216\n",
        "1102 TEST"
      ],
      "metadata": {
        "id": "lirI2jz9_FC3"
      }
    },
    {
      "cell_type": "markdown",
      "source": [
        "MULTIPLY CHOICE\n"
      ],
      "metadata": {
        "id": "G5-X5ljN_ZI8"
      }
    },
    {
      "cell_type": "markdown",
      "source": [
        "##1\n",
        "Which following is the correct way to create a dictionary in Python?\n",
        "   (A) students = { 'name' => 'alice' ;  'score' =>60 }\n",
        "   (B) students = { 'name' = 'alice' ;  'score' =60 }\n",
        "   (C) students = { 'name' : 'alice' ;  'score' : 60 }\n",
        "   (D) students = { 'name' => 'alice' ,  'score' =>60 }\n",
        "   (E) students = { 'name' : 'alice' , 'score' : 60 }\n",
        "   \n",
        "Answer:\n",
        " C  "
      ],
      "metadata": {
        "id": "BxlFl6PzwXnZ"
      }
    },
    {
      "cell_type": "markdown",
      "source": [
        "##2\n",
        "What does the following Python program fragment do?\n",
        "   s=0\n",
        "   for i in range (3 , 10) :\n",
        "        s+=i\n",
        "   print (s)\n",
        "   (A) Calculate the sum of 1+2+…+10\n",
        "   (B) Calculate the sum of 1+4+7+10\n",
        "   (C) Calculate the sum of 3+4+5+6+…+9\n",
        "   (D) Calculate the sum of 3+4+5+6+…+10\n",
        "   (E) Calculate the sum of 0+2+4+6+…+10\n",
        "\n",
        "   Answer:\n",
        "   C"
      ],
      "metadata": {
        "id": "kbTTKifpwtu5"
      }
    },
    {
      "cell_type": "markdown",
      "source": [
        "range(3,10)= 3+4+5+6+…+9"
      ],
      "metadata": {
        "id": "VjtoKAdk0AOJ"
      }
    },
    {
      "cell_type": "code",
      "source": [
        "s=0\n",
        "for i in range (3 , 10) :\n",
        "         s+=i\n",
        "\n",
        "print(s)"
      ],
      "metadata": {
        "colab": {
          "base_uri": "https://localhost:8080/"
        },
        "id": "LEFI_lyxw53j",
        "outputId": "443cc0f6-f7b9-4f1b-bffd-0caba2666224"
      },
      "execution_count": 24,
      "outputs": [
        {
          "output_type": "stream",
          "name": "stdout",
          "text": [
            "42\n"
          ]
        }
      ]
    },
    {
      "cell_type": "markdown",
      "source": [
        "##3\n",
        "What is the output of this code in Python?\n",
        "      list = [ ' a ' ,  ' b ' ,  ' c ' ,  ' d ' ,  ' e ' ]\n",
        "      print (list [ 1 : ])\n",
        "   (A) [ ]\n",
        "   (B) [ 'b' ]\n",
        "   (C) [ 'a' ,  'b' ]\n",
        "   (D) [ 'b' ,  'c' ,  'd' ,  'e' ]\n",
        "\n",
        "   Answer:\n",
        "   D"
      ],
      "metadata": {
        "id": "N0nP7_8exx38"
      }
    },
    {
      "cell_type": "code",
      "source": [
        "list = [ ' a ' ,  ' b ' ,  ' c ' ,  ' d ' ,  ' e ' ]\n",
        "     \n",
        "print (list [ 1 : ])"
      ],
      "metadata": {
        "colab": {
          "base_uri": "https://localhost:8080/"
        },
        "id": "TZtSDmV2x3dL",
        "outputId": "b4bb0386-38d1-4a3b-d568-fa971e09ecd0"
      },
      "execution_count": 15,
      "outputs": [
        {
          "output_type": "stream",
          "name": "stdout",
          "text": [
            "[' b ', ' c ', ' d ', ' e ']\n"
          ]
        }
      ]
    },
    {
      "cell_type": "markdown",
      "source": [
        "##4\n",
        "What is the output of this code in Python?\n",
        "        L1 = [ ]\n",
        "        L1.append ( [1, [2, 3], 4] )\n",
        "        L1.extend ( [7, 8, 9] )\n",
        "        print(L1[0][1][1] + L1[2] )\n",
        "   (A) 3  (B) 8  (C) 11  (D) 38  (E) None of these\n",
        "\n",
        "  Answer:\n",
        "  C"
      ],
      "metadata": {
        "id": "ocPvPEamyS5A"
      }
    },
    {
      "cell_type": "code",
      "source": [
        "        L1 = [ ]\n",
        "        L1.append ( [1, [2, 3], 4] )\n",
        "        L1.extend ( [7, 8, 9] )\n",
        "        print(L1[0][1][1] + L1[2] )"
      ],
      "metadata": {
        "colab": {
          "base_uri": "https://localhost:8080/"
        },
        "id": "nzqquMqOyYmZ",
        "outputId": "acfe3b92-2748-4c60-caf6-73f9e3513206"
      },
      "execution_count": 43,
      "outputs": [
        {
          "output_type": "stream",
          "name": "stdout",
          "text": [
            "11\n"
          ]
        }
      ]
    },
    {
      "cell_type": "markdown",
      "source": [
        "##5\n",
        "What is the output of this code in python?\n",
        "        r = lambda q: q * 2\n",
        "        s = lambda q: q * 3\n",
        "        x = 2\n",
        "        x = r (x)\n",
        "        x = s (x)\n",
        "        x = r (x)\n",
        "        print (x)\n",
        "   (A) 2  (B) 4  (C) 6  (D) 12  (E) 24\n",
        "\n",
        " Answer:\n",
        " E  "
      ],
      "metadata": {
        "id": "_Q_jQYvHzUQR"
      }
    },
    {
      "cell_type": "code",
      "source": [
        " r = lambda q: q * 2\n",
        " s = lambda q:q * 3\n",
        " x = 2     \n",
        " x = r (x)\n",
        " x = s (x)\n",
        " x = r (x)\n",
        "\n",
        " print (x)"
      ],
      "metadata": {
        "colab": {
          "base_uri": "https://localhost:8080/"
        },
        "id": "fozRYep5ze8h",
        "outputId": "5bdcd47a-3b42-41bf-f1e6-1f19a5d02a5b"
      },
      "execution_count": 35,
      "outputs": [
        {
          "output_type": "stream",
          "name": "stdout",
          "text": [
            "24\n"
          ]
        }
      ]
    },
    {
      "cell_type": "markdown",
      "source": [
        "##6\n",
        "Which of the following conditions correctly describes the output of this code in  Python?\n",
        "         first = [1 , 2 , 3 , 4 , 5]\n",
        "         second = first\n",
        "         second.append (6)\n",
        "         print (first)\n",
        "         print (second)\n",
        "   (A) first=[1, 2, 3, 4, 5], second=[1, 2, 3, 4, 5, 6]\n",
        "   (B) first=[1, 2, 3, 4, 5, 6], second=[1, 2, 3, 4, 5]\n",
        "   (C) first=[1, 2, 3, 4, 5], second=[1, 2, 3, 4, 5]\n",
        "   (D) first=[1, 2, 3, 4, 5, 6], second=[1, 2, 3, 4, 5, 6]\n",
        "\n",
        "Answer:\n",
        "D   "
      ],
      "metadata": {
        "id": "T0qzcdMH13ZC"
      }
    },
    {
      "cell_type": "code",
      "source": [
        "first = [1 , 2 , 3 , 4 , 5]\n",
        "second = first\n",
        "second.append (6)\n",
        "\n",
        "print (first)\n",
        "\n",
        "print (second)"
      ],
      "metadata": {
        "colab": {
          "base_uri": "https://localhost:8080/"
        },
        "id": "beRNZRQk1_IB",
        "outputId": "477c0a47-c59e-415f-e545-f0ce40e51d99"
      },
      "execution_count": 38,
      "outputs": [
        {
          "output_type": "stream",
          "name": "stdout",
          "text": [
            "[1, 2, 3, 4, 5, 6]\n",
            "[1, 2, 3, 4, 5, 6]\n"
          ]
        }
      ]
    },
    {
      "cell_type": "markdown",
      "source": [
        "##7\n",
        "If the function \n",
        "int volume (int x = 1, int y = 1, int z = 1); \n",
        "is called by the expression volume (7,8), \n",
        "how many default arguments are used?\n",
        "(A) None  (B) One  (C) Two  (D) Three\n",
        "(E) It depends on the runtime environment.\n",
        "\n",
        "Answer:\n",
        "D"
      ],
      "metadata": {
        "id": "x5IE7jKR2Y_A"
      }
    },
    {
      "cell_type": "markdown",
      "source": [
        "Reading Comprehension:What is the output of this code in Python?"
      ],
      "metadata": {
        "id": "yjb0FNuG_gEF"
      }
    },
    {
      "cell_type": "markdown",
      "source": [
        "##B1\n",
        "What is the output of this code in Python? explain it.\n",
        "# primes.py\n",
        "primes = []  # this will contain the primes at the end\n",
        "upto = 100  # the limit, inclusive\n",
        "for n in range(2, upto + 1):\n",
        "    is_prime = True  # flag, new at each iteration of outer for\n",
        "    for divisor in range(2, n):\n",
        "        if n % divisor == 0:\n",
        "            is_prime = False\n",
        "            break\n",
        "    if is_prime:  # check on flag\n",
        "        primes.append(n)\n",
        "print(primes)"
      ],
      "metadata": {
        "id": "8WF3Tn4I3CIi"
      }
    },
    {
      "cell_type": "markdown",
      "source": [
        "Answer:"
      ],
      "metadata": {
        "id": "C-f-nYRKFHnk"
      }
    },
    {
      "cell_type": "code",
      "source": [
        "primes = []  # this will contain the primes at the end\n",
        "upto = 100  # the limit, inclusive\n",
        "for n in range(2, upto + 1):\n",
        "    is_prime = True  # flag, new at each iteration of outer for\n",
        "    for divisor in range(2, n):\n",
        "        if n % divisor == 0:\n",
        "            is_prime = False\n",
        "            break\n",
        "    if is_prime:  # check on flag\n",
        "        primes.append(n)\n",
        "        \n",
        "print(primes)"
      ],
      "metadata": {
        "colab": {
          "base_uri": "https://localhost:8080/"
        },
        "id": "DqlZSAFP3Nqv",
        "outputId": "45093ef1-3795-4b15-d68b-83376e590f5f"
      },
      "execution_count": 40,
      "outputs": [
        {
          "output_type": "stream",
          "name": "stdout",
          "text": [
            "[2, 3, 5, 7, 11, 13, 17, 19, 23, 29, 31, 37, 41, 43, 47, 53, 59, 61, 67, 71, 73, 79, 83, 89, 97]\n"
          ]
        }
      ]
    },
    {
      "cell_type": "markdown",
      "source": [
        "EXPLAINATION:\n",
        "\n",
        "# primes.py\n",
        "primes = []  # this will contain the primes at the end\n",
        "upto = 100  # the limit, inclusive\n",
        "for n in range(2, upto + 1):\n",
        "    is_prime = True  # flag, new at each iteration of outer for\n",
        "    for divisor in range(2, n):\n",
        "        if n % divisor == 0:\n",
        "            is_prime = False # if the remainder of n is equal to 0 then it is not included\n",
        "            break\n",
        "    if is_prime:  # check on flag\n",
        "        primes.append(n) # if is_prime is true or the remainder of n is not equal to 0 then it will append or added in the list\n",
        "print(primes)\n"
      ],
      "metadata": {
        "id": "5z9ZcEGZFJKj"
      }
    },
    {
      "cell_type": "markdown",
      "source": [
        "##B2\n",
        "B2.What is the output of this code in Python? explain it.\n",
        "# primes.else.py\n",
        "primes = []\n",
        "upto = 100\n",
        "for n in range(2, upto + 1):\n",
        "    for divisor in range(2, n):\n",
        "        if n % divisor == 0:\n",
        "            break\n",
        "    else:\n",
        "        primes.append(n)\n",
        "print(primes)"
      ],
      "metadata": {
        "id": "yJFw8zyI3f_I"
      }
    },
    {
      "cell_type": "markdown",
      "source": [
        "Answer:"
      ],
      "metadata": {
        "id": "cyk3fiSWE3vE"
      }
    },
    {
      "cell_type": "code",
      "source": [
        "primes = []\n",
        "upto = 100\n",
        "for n in range(2, upto + 1):\n",
        "    for divisor in range(2, n):\n",
        "        if n % divisor == 0:\n",
        "            break\n",
        "    else:\n",
        "        primes.append(n)\n",
        "        \n",
        "print(primes)"
      ],
      "metadata": {
        "colab": {
          "base_uri": "https://localhost:8080/"
        },
        "id": "gJM87VtO3qfJ",
        "outputId": "d26affb0-696b-423e-d0bb-7006e768f9a7"
      },
      "execution_count": 41,
      "outputs": [
        {
          "output_type": "stream",
          "name": "stdout",
          "text": [
            "[2, 3, 5, 7, 11, 13, 17, 19, 23, 29, 31, 37, 41, 43, 47, 53, 59, 61, 67, 71, 73, 79, 83, 89, 97]\n"
          ]
        }
      ]
    },
    {
      "cell_type": "markdown",
      "source": [
        "\n",
        "EXPLAINATION:\n",
        "\n",
        "# primes.else.py\n",
        "primes = [] # will contain the prime numbers\n",
        "upto = 100 # limit\n",
        "for n in range(2, upto + 1):\n",
        "    for divisor in range(2, n):\n",
        "        if n % divisor == 0: # if the remainder of n is equal to 0 then it is not included\n",
        "            break\n",
        "    else:\n",
        "        primes.append(n) # if the remainder of n is not equal to 0 then it will append or added in the list\n",
        "print(primes)"
      ],
      "metadata": {
        "id": "sRWaQQv2E6X8"
      }
    },
    {
      "cell_type": "markdown",
      "source": [
        "##B3\n",
        "B3.What is the output of this code in Python?explain it.\n",
        "cubes = [x**3 for x in range(1,6)]\n",
        "print(cubes)"
      ],
      "metadata": {
        "id": "n6a93tPK48AC"
      }
    },
    {
      "cell_type": "markdown",
      "source": [
        "Answer:"
      ],
      "metadata": {
        "id": "Bxo4f7MhFO30"
      }
    },
    {
      "cell_type": "code",
      "source": [
        "cubes = [x**3 for x in range(1,6)]\n",
        "print(cubes)"
      ],
      "metadata": {
        "colab": {
          "base_uri": "https://localhost:8080/"
        },
        "id": "_CmHh8Cu5AR6",
        "outputId": "5a514f01-718d-490a-ab39-ba7892f51870"
      },
      "execution_count": 44,
      "outputs": [
        {
          "output_type": "stream",
          "name": "stdout",
          "text": [
            "[1, 8, 27, 64, 125]\n"
          ]
        }
      ]
    },
    {
      "cell_type": "markdown",
      "source": [
        "EXPLAINATION:\n",
        "\n",
        "range(1,6) == > 1,2,3,4,5\n",
        "\n",
        "[x**3 for x in range(1,6)] ==> [1**3 , 2**3 , ...., 5**3]\n",
        "\n",
        "2**3 = 8"
      ],
      "metadata": {
        "id": "n7er861_FRqt"
      }
    },
    {
      "cell_type": "markdown",
      "source": [
        "Programming Python"
      ],
      "metadata": {
        "id": "STsthgtP5O84"
      }
    },
    {
      "cell_type": "markdown",
      "source": [
        "The Fibonacci numbers may be defined by the recurrence relation\n",
        " F_{0}=0, F_{1}=1\n",
        "and\n",
        "F_{n} = F_{n-1} + F_{n-2}   for n > 1.\n",
        "\n",
        "0,1,1,2,3,5,8,......\n",
        "\n",
        "Under some older definitions, the value  F_{0}=0 is omitted, \n",
        "so that the sequence starts with F_{1}=F_{2}=1 and \n",
        "the recurrence F_{n}=F_{n-1}+F_{n-2} is valid for n > 2\n",
        "\n",
        "(1)Write a Python function/Program to Find Fibonacci Numbers using Recursion\n",
        "(2)use iterative Approach To Find the nth Term Of Fibonacci Sequence(You need to write a function using loop)"
      ],
      "metadata": {
        "id": "TLA9enG_5lHg"
      }
    },
    {
      "cell_type": "code",
      "source": [
        "def recur_fibo(n):  \n",
        "   if n <= 1:  \n",
        "       return n  \n",
        "   else:  \n",
        "       return(recur_fibo(n-1) + recur_fibo(n-2))  \n",
        "# take input from the user  \n",
        "nterms = int(input(\"How many terms? \"))  \n",
        "# check if the number of terms is valid  \n",
        "if nterms <= 0:  \n",
        "   print(\"Plese enter a positive integer\")  \n",
        "else:  \n",
        "   print(\"Fibonacci numbers:\")  \n",
        "   for i in range(nterms):  \n",
        "       print(recur_fibo(i))"
      ],
      "metadata": {
        "colab": {
          "base_uri": "https://localhost:8080/"
        },
        "id": "IwapUAx-GeTj",
        "outputId": "91d5a60f-4ccc-41d7-b71a-896030b7617d"
      },
      "execution_count": 47,
      "outputs": [
        {
          "output_type": "stream",
          "name": "stdout",
          "text": [
            "How many terms? 25\n",
            "Fibonacci numbers:\n",
            "0\n",
            "1\n",
            "1\n",
            "2\n",
            "3\n",
            "5\n",
            "8\n",
            "13\n",
            "21\n",
            "34\n",
            "55\n",
            "89\n",
            "144\n",
            "233\n",
            "377\n",
            "610\n",
            "987\n",
            "1597\n",
            "2584\n",
            "4181\n",
            "6765\n",
            "10946\n",
            "17711\n",
            "28657\n",
            "46368\n"
          ]
        }
      ]
    },
    {
      "cell_type": "code",
      "source": [
        "def f(n):\n",
        "  if n == 0:\n",
        "    return 0\n",
        "  if n == 1:\n",
        "    return 1\n",
        "  else:\n",
        "    return f(n-1) + f(n-2)\n",
        "\n",
        "f(6) #in this code note that the n starts at 0\n"
      ],
      "metadata": {
        "colab": {
          "base_uri": "https://localhost:8080/"
        },
        "id": "spl2qSqq5wx4",
        "outputId": "d9f90d94-ed92-4dbb-8567-59f2c3e841b2"
      },
      "execution_count": 45,
      "outputs": [
        {
          "output_type": "execute_result",
          "data": {
            "text/plain": [
              "8"
            ]
          },
          "metadata": {},
          "execution_count": 45
        }
      ]
    },
    {
      "cell_type": "code",
      "source": [
        "def f(n):\n",
        "  a = 0\n",
        "  b = 1\n",
        "  if n == 0:\n",
        "    return a\n",
        "  if n == 1:\n",
        "    return b\n",
        "  else:\n",
        "    for i in range(2,n):\n",
        "        c = a + b\n",
        "        a = b\n",
        "        b = c\n",
        "    return b\n",
        "f(7) #in this code note that the n starts at 1"
      ],
      "metadata": {
        "colab": {
          "base_uri": "https://localhost:8080/"
        },
        "id": "Z89X82StGJOM",
        "outputId": "b7d39cf3-bf33-4e4f-9f80-4b60c23740a9"
      },
      "execution_count": 46,
      "outputs": [
        {
          "output_type": "execute_result",
          "data": {
            "text/plain": [
              "8"
            ]
          },
          "metadata": {},
          "execution_count": 46
        }
      ]
    }
  ]
}