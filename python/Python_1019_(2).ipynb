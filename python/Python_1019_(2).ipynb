{
  "nbformat": 4,
  "nbformat_minor": 0,
  "metadata": {
    "colab": {
      "provenance": []
    },
    "kernelspec": {
      "name": "python3",
      "display_name": "Python 3"
    },
    "language_info": {
      "name": "python"
    }
  },
  "cells": [
    {
      "cell_type": "markdown",
      "source": [
        "錢德羅 4110E216"
      ],
      "metadata": {
        "id": "b7a9_bSPO6R4"
      }
    },
    {
      "cell_type": "markdown",
      "source": [
        "Python for Loops\n",
        "\n",
        "Exercise1: Loop through the items in the fruits list."
      ],
      "metadata": {
        "id": "1S-OMnsyPEuZ"
      }
    },
    {
      "cell_type": "code",
      "source": [
        "fruits = [\"apple\", \"banana\", \"cherry\"]\n",
        "for x in fruits:\n",
        "    print(x)"
      ],
      "metadata": {
        "colab": {
          "base_uri": "https://localhost:8080/"
        },
        "id": "1Gix89AQPP8x",
        "outputId": "075f0ced-7d7d-4a89-c96c-4f3da8b5d45c"
      },
      "execution_count": 2,
      "outputs": [
        {
          "output_type": "stream",
          "name": "stdout",
          "text": [
            "apple\n",
            "banana\n",
            "cherry\n"
          ]
        }
      ]
    },
    {
      "cell_type": "markdown",
      "source": [
        "Exercise2: n the loop, when the item value is \"banana\", jump directly to the next item."
      ],
      "metadata": {
        "id": "TqUIR-2MQZiR"
      }
    },
    {
      "cell_type": "code",
      "source": [
        "fruits = [\"apple\", \"banana\", \"cherry\"]\n",
        "for x in fruits:\n",
        " if x == \"banana\":\n",
        "  continue\n",
        "  print(x)  "
      ],
      "metadata": {
        "id": "XU4yfjCEQkAC"
      },
      "execution_count": 4,
      "outputs": []
    },
    {
      "cell_type": "markdown",
      "source": [
        "Exercise3: Use the range function to loop through a code set 6 times."
      ],
      "metadata": {
        "id": "Jm7g6JUkQ1T5"
      }
    },
    {
      "cell_type": "code",
      "source": [
        "for x in range(6):\n",
        "  print(x)"
      ],
      "metadata": {
        "colab": {
          "base_uri": "https://localhost:8080/"
        },
        "id": "rlQVftibQ-5K",
        "outputId": "a0e02270-77ce-4ad8-d177-2d71b4a4839e"
      },
      "execution_count": 6,
      "outputs": [
        {
          "output_type": "stream",
          "name": "stdout",
          "text": [
            "0\n",
            "1\n",
            "2\n",
            "3\n",
            "4\n",
            "5\n"
          ]
        }
      ]
    },
    {
      "cell_type": "markdown",
      "source": [
        "Exercise4: Exit the loop when x is \"banana\"."
      ],
      "metadata": {
        "id": "r12pfTKZRuzJ"
      }
    },
    {
      "cell_type": "code",
      "source": [
        "fruits = [\"apple\", \"banana\", \"cherry\"]\n",
        "for x in fruits:\n",
        "  if x == \"banana\":\n",
        "    break\n",
        "    print(x)"
      ],
      "metadata": {
        "id": "tGK_Ie0GSGPx"
      },
      "execution_count": 7,
      "outputs": []
    }
  ]
}