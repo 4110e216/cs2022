{
  "nbformat": 4,
  "nbformat_minor": 0,
  "metadata": {
    "colab": {
      "provenance": []
    },
    "kernelspec": {
      "name": "python3",
      "display_name": "Python 3"
    },
    "language_info": {
      "name": "python"
    }
  },
  "cells": [
    {
      "cell_type": "markdown",
      "source": [
        "錢德羅 4110E216"
      ],
      "metadata": {
        "id": "XjiCFZAATKKr"
      }
    },
    {
      "cell_type": "markdown",
      "source": [
        "QUIZ\n",
        "\n",
        "Exercise1:"
      ],
      "metadata": {
        "id": "BueEna_xTPHp"
      }
    },
    {
      "cell_type": "code",
      "source": [
        "initial = 111\n",
        "\n",
        "for x in range(2,7,2):\n",
        "  initial *= x  #initial = initial*x\n",
        "\n",
        "print(initial)"
      ],
      "metadata": {
        "colab": {
          "base_uri": "https://localhost:8080/"
        },
        "id": "UG-qDjY0TZOC",
        "outputId": "62b36ae9-d600-4dee-bdec-899f527262b5"
      },
      "execution_count": 1,
      "outputs": [
        {
          "output_type": "stream",
          "name": "stdout",
          "text": [
            "5328\n"
          ]
        }
      ]
    },
    {
      "cell_type": "markdown",
      "source": [
        "Exercise2:"
      ],
      "metadata": {
        "id": "eV3hLeqKTkBK"
      }
    },
    {
      "cell_type": "code",
      "source": [
        "initial = 111\n",
        "\n",
        "for x in range(2,7,2):\n",
        "  initial -= x  #initial = initial - x\n",
        "\n",
        "print(initial)"
      ],
      "metadata": {
        "colab": {
          "base_uri": "https://localhost:8080/"
        },
        "id": "nLJ4-pmeTmEF",
        "outputId": "4e366b65-ad63-45e2-97a4-7697afee40ea"
      },
      "execution_count": 2,
      "outputs": [
        {
          "output_type": "stream",
          "name": "stdout",
          "text": [
            "99\n"
          ]
        }
      ]
    }
  ]
}